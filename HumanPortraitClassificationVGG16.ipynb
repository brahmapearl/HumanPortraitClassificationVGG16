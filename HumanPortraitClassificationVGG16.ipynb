{
  "cells": [
    {
      "cell_type": "markdown",
      "metadata": {
        "id": "view-in-github",
        "colab_type": "text"
      },
      "source": [
        "<a href=\"https://colab.research.google.com/github/brahmapearl/HumanPortraitClassificationVGG16/blob/main/HumanPortraitClassificationVGG16.ipynb\" target=\"_parent\"><img src=\"https://colab.research.google.com/assets/colab-badge.svg\" alt=\"Open In Colab\"/></a>"
      ]
    },
    {
      "cell_type": "code",
      "execution_count": 1,
      "metadata": {
        "colab": {
          "base_uri": "https://localhost:8080/"
        },
        "id": "phvSLjI5i19f",
        "outputId": "4bff6092-5155-4c8d-aa63-9f72dc87afcd"
      },
      "outputs": [
        {
          "output_type": "stream",
          "name": "stdout",
          "text": [
            "Mounted at /content/drive\n"
          ]
        }
      ],
      "source": [
        "from google.colab import drive\n",
        "drive.mount('/content/drive')"
      ]
    },
    {
      "cell_type": "code",
      "execution_count": 2,
      "metadata": {
        "id": "4w8ASUDmi-Wo"
      },
      "outputs": [],
      "source": [
        "import zipfile\n",
        "import os\n",
        "\n",
        "zip_ref = zipfile.ZipFile('/content/drive/MyDrive/binary.zip', 'r')\n",
        "zip_ref.extractall('/content')\n",
        "zip_ref.close()"
      ]
    },
    {
      "cell_type": "code",
      "execution_count": 3,
      "metadata": {
        "id": "NiEmAMYEjGFR"
      },
      "outputs": [],
      "source": [
        "import os\n",
        "import numpy as np\n",
        "from keras.preprocessing.image import ImageDataGenerator\n",
        "from keras.models import Sequential\n",
        "from keras.layers import Dense, Flatten\n",
        "from keras.applications.vgg16 import VGG16"
      ]
    },
    {
      "cell_type": "code",
      "execution_count": 4,
      "metadata": {
        "id": "61Loj7uSjHGa"
      },
      "outputs": [],
      "source": [
        "# Define constants\n",
        "IMAGE_SIZE = 224\n",
        "BATCH_SIZE = 32\n"
      ]
    },
    {
      "cell_type": "code",
      "execution_count": 5,
      "metadata": {
        "id": "PryY48CGjMdm"
      },
      "outputs": [],
      "source": [
        "data_dir = '/content/binary'"
      ]
    },
    {
      "cell_type": "code",
      "execution_count": 6,
      "metadata": {
        "id": "QP-xJdFwl04e"
      },
      "outputs": [],
      "source": [
        "datagen = ImageDataGenerator(\n",
        "    rescale=1./255,\n",
        "    rotation_range=20,\n",
        "    width_shift_range=0.2,\n",
        "    height_shift_range=0.2,\n",
        "    shear_range=0.2,\n",
        "    zoom_range=0.2,\n",
        "    horizontal_flip=True,\n",
        "    validation_split=0.2)"
      ]
    },
    {
      "cell_type": "code",
      "execution_count": 7,
      "metadata": {
        "colab": {
          "base_uri": "https://localhost:8080/"
        },
        "id": "O_yuAl0Rl1FF",
        "outputId": "fe8b3731-c6b8-4089-b043-d3ba602e4017"
      },
      "outputs": [
        {
          "output_type": "stream",
          "name": "stdout",
          "text": [
            "Found 35367 images belonging to 2 classes.\n",
            "Found 8841 images belonging to 2 classes.\n"
          ]
        }
      ],
      "source": [
        "\n",
        "# Load in the dataset\n",
        "train_data = datagen.flow_from_directory(\n",
        "    data_dir,\n",
        "    target_size=(224, 224),\n",
        "    batch_size=32,\n",
        "    class_mode='categorical',\n",
        "    subset='training')\n",
        "\n",
        "val_data = datagen.flow_from_directory(\n",
        "    data_dir,\n",
        "    target_size=(224, 224),\n",
        "    batch_size=32,\n",
        "    class_mode='categorical',\n",
        "    subset='validation')"
      ]
    },
    {
      "cell_type": "code",
      "execution_count": 8,
      "metadata": {
        "colab": {
          "base_uri": "https://localhost:8080/"
        },
        "id": "oa5H56dInKQW",
        "outputId": "0a7987c4-3b61-4c07-c9fc-2d605bcb2767"
      },
      "outputs": [
        {
          "output_type": "stream",
          "name": "stdout",
          "text": [
            "Downloading data from https://storage.googleapis.com/tensorflow/keras-applications/vgg16/vgg16_weights_tf_dim_ordering_tf_kernels.h5\n",
            "553467096/553467096 [==============================] - 3s 0us/step\n"
          ]
        }
      ],
      "source": [
        "# Load pre-trained VGG-16 model\n",
        "vgg16_model = VGG16(input_shape=(224,224, 3))"
      ]
    },
    {
      "cell_type": "code",
      "execution_count": 9,
      "metadata": {
        "id": "Bn6Qxy53nLai"
      },
      "outputs": [],
      "source": [
        "# Add custom layers for classification\n",
        "model = Sequential()\n",
        "model.add(vgg16_model)\n",
        "model.add(Flatten())\n",
        "model.add(Dense(units=2, activation='sigmoid'))\n",
        "\n",
        "# Freeze pre-trained layers\n",
        "for layer in vgg16_model.layers:\n",
        "   layer.trainable = False"
      ]
    },
    {
      "cell_type": "code",
      "execution_count": 10,
      "metadata": {
        "colab": {
          "base_uri": "https://localhost:8080/"
        },
        "id": "IV9bmPU1vwZk",
        "outputId": "2c17a254-b7ee-43d4-dc57-7b31b71554b6"
      },
      "outputs": [
        {
          "output_type": "stream",
          "name": "stdout",
          "text": [
            "Model: \"sequential\"\n",
            "_________________________________________________________________\n",
            " Layer (type)                Output Shape              Param #   \n",
            "=================================================================\n",
            " vgg16 (Functional)          (None, 1000)              138357544 \n",
            "                                                                 \n",
            " flatten (Flatten)           (None, 1000)              0         \n",
            "                                                                 \n",
            " dense (Dense)               (None, 2)                 2002      \n",
            "                                                                 \n",
            "=================================================================\n",
            "Total params: 138,359,546\n",
            "Trainable params: 2,002\n",
            "Non-trainable params: 138,357,544\n",
            "_________________________________________________________________\n"
          ]
        }
      ],
      "source": [
        "model.summary()"
      ]
    },
    {
      "cell_type": "code",
      "execution_count": 11,
      "metadata": {
        "id": "uCf_KU7TnP9n"
      },
      "outputs": [],
      "source": [
        "# Compile model\n",
        "model.compile(optimizer='adam', loss='binary_crossentropy', metrics=['accuracy'])"
      ]
    },
    {
      "cell_type": "code",
      "execution_count": null,
      "metadata": {
        "colab": {
          "base_uri": "https://localhost:8080/"
        },
        "id": "mextM6_hnTDT",
        "outputId": "03f59f95-b48e-40ec-f2f4-b41c423b3828"
      },
      "outputs": [
        {
          "output_type": "stream",
          "name": "stderr",
          "text": [
            "<ipython-input-12-68ff80a449bd>:1: UserWarning: `Model.fit_generator` is deprecated and will be removed in a future version. Please use `Model.fit`, which supports generators.\n",
            "  H = model.fit_generator(steps_per_epoch=30,generator=train_data,validation_steps=2,validation_data=val_data,epochs=50,verbose=1,shuffle=True)\n"
          ]
        },
        {
          "output_type": "stream",
          "name": "stdout",
          "text": [
            "Epoch 1/50\n",
            "30/30 [==============================] - 28s 461ms/step - loss: 0.6932 - accuracy: 0.4896 - val_loss: 0.6932 - val_accuracy: 0.4375\n",
            "Epoch 2/50\n",
            "30/30 [==============================] - 14s 448ms/step - loss: 0.6922 - accuracy: 0.5729 - val_loss: 0.6927 - val_accuracy: 0.5000\n",
            "Epoch 3/50\n",
            "30/30 [==============================] - 13s 446ms/step - loss: 0.6920 - accuracy: 0.5521 - val_loss: 0.6928 - val_accuracy: 0.5312\n",
            "Epoch 4/50\n",
            "30/30 [==============================] - 14s 450ms/step - loss: 0.6910 - accuracy: 0.6656 - val_loss: 0.6915 - val_accuracy: 0.6406\n",
            "Epoch 5/50\n",
            "30/30 [==============================] - 13s 448ms/step - loss: 0.6904 - accuracy: 0.6677 - val_loss: 0.6898 - val_accuracy: 0.7031\n",
            "Epoch 6/50\n",
            "30/30 [==============================] - 13s 450ms/step - loss: 0.6896 - accuracy: 0.7042 - val_loss: 0.6881 - val_accuracy: 0.7188\n",
            "Epoch 7/50\n",
            "30/30 [==============================] - 14s 477ms/step - loss: 0.6889 - accuracy: 0.6802 - val_loss: 0.6904 - val_accuracy: 0.6406\n",
            "Epoch 8/50\n",
            "30/30 [==============================] - 14s 452ms/step - loss: 0.6888 - accuracy: 0.6385 - val_loss: 0.6886 - val_accuracy: 0.6406\n",
            "Epoch 9/50\n",
            "30/30 [==============================] - 13s 449ms/step - loss: 0.6884 - accuracy: 0.6323 - val_loss: 0.6903 - val_accuracy: 0.6094\n",
            "Epoch 10/50\n",
            "30/30 [==============================] - 14s 462ms/step - loss: 0.6873 - accuracy: 0.6708 - val_loss: 0.6878 - val_accuracy: 0.6875\n",
            "Epoch 11/50\n",
            "30/30 [==============================] - 14s 450ms/step - loss: 0.6866 - accuracy: 0.6792 - val_loss: 0.6825 - val_accuracy: 0.7969\n",
            "Epoch 12/50\n",
            "30/30 [==============================] - 15s 489ms/step - loss: 0.6855 - accuracy: 0.6990 - val_loss: 0.6846 - val_accuracy: 0.7344\n",
            "Epoch 13/50\n",
            "30/30 [==============================] - 14s 453ms/step - loss: 0.6853 - accuracy: 0.6698 - val_loss: 0.6820 - val_accuracy: 0.7188\n",
            "Epoch 14/50\n",
            "30/30 [==============================] - 13s 450ms/step - loss: 0.6835 - accuracy: 0.6990 - val_loss: 0.6818 - val_accuracy: 0.7812\n",
            "Epoch 15/50\n",
            "30/30 [==============================] - 14s 454ms/step - loss: 0.6846 - accuracy: 0.6583 - val_loss: 0.6811 - val_accuracy: 0.7812\n",
            "Epoch 16/50\n",
            "30/30 [==============================] - 14s 451ms/step - loss: 0.6839 - accuracy: 0.6719 - val_loss: 0.6813 - val_accuracy: 0.7656\n",
            "Epoch 17/50\n",
            "30/30 [==============================] - 13s 444ms/step - loss: 0.6828 - accuracy: 0.6698 - val_loss: 0.6824 - val_accuracy: 0.6875\n",
            "Epoch 18/50\n",
            "30/30 [==============================] - 13s 435ms/step - loss: 0.6816 - accuracy: 0.6833 - val_loss: 0.6823 - val_accuracy: 0.7344\n",
            "Epoch 19/50\n",
            "30/30 [==============================] - 13s 446ms/step - loss: 0.6812 - accuracy: 0.6969 - val_loss: 0.6777 - val_accuracy: 0.7812\n",
            "Epoch 20/50\n",
            "30/30 [==============================] - 14s 448ms/step - loss: 0.6795 - accuracy: 0.7073 - val_loss: 0.6789 - val_accuracy: 0.6719\n",
            "Epoch 21/50\n",
            "30/30 [==============================] - 14s 446ms/step - loss: 0.6788 - accuracy: 0.7115 - val_loss: 0.6813 - val_accuracy: 0.7188\n",
            "Epoch 22/50\n",
            "30/30 [==============================] - 14s 452ms/step - loss: 0.6793 - accuracy: 0.6938 - val_loss: 0.6765 - val_accuracy: 0.7344\n",
            "Epoch 23/50\n",
            "30/30 [==============================] - 14s 453ms/step - loss: 0.6792 - accuracy: 0.7010 - val_loss: 0.6735 - val_accuracy: 0.8125\n",
            "Epoch 24/50\n",
            "30/30 [==============================] - 14s 451ms/step - loss: 0.6783 - accuracy: 0.6802 - val_loss: 0.6735 - val_accuracy: 0.7812\n",
            "Epoch 25/50\n",
            "30/30 [==============================] - 13s 447ms/step - loss: 0.6767 - accuracy: 0.6792 - val_loss: 0.6758 - val_accuracy: 0.7188\n",
            "Epoch 26/50\n",
            "30/30 [==============================] - 14s 450ms/step - loss: 0.6764 - accuracy: 0.6812 - val_loss: 0.6765 - val_accuracy: 0.6875\n",
            "Epoch 27/50\n",
            "30/30 [==============================] - 13s 443ms/step - loss: 0.6775 - accuracy: 0.6760 - val_loss: 0.6687 - val_accuracy: 0.8281\n",
            "Epoch 28/50\n",
            "30/30 [==============================] - 13s 447ms/step - loss: 0.6765 - accuracy: 0.7021 - val_loss: 0.6727 - val_accuracy: 0.8125\n",
            "Epoch 29/50\n",
            "30/30 [==============================] - 15s 491ms/step - loss: 0.6732 - accuracy: 0.7094 - val_loss: 0.6783 - val_accuracy: 0.7031\n",
            "Epoch 30/50\n",
            "30/30 [==============================] - 14s 450ms/step - loss: 0.6753 - accuracy: 0.6875 - val_loss: 0.6703 - val_accuracy: 0.7188\n",
            "Epoch 31/50\n",
            "30/30 [==============================] - 13s 450ms/step - loss: 0.6730 - accuracy: 0.7000 - val_loss: 0.6765 - val_accuracy: 0.7031\n",
            "Epoch 32/50\n",
            "30/30 [==============================] - 14s 452ms/step - loss: 0.6756 - accuracy: 0.6781 - val_loss: 0.6771 - val_accuracy: 0.7188\n",
            "Epoch 33/50\n",
            "30/30 [==============================] - 13s 448ms/step - loss: 0.6740 - accuracy: 0.6750 - val_loss: 0.6769 - val_accuracy: 0.6875\n",
            "Epoch 34/50\n",
            "15/30 [==============>...............] - ETA: 5s - loss: 0.6723 - accuracy: 0.6833"
          ]
        }
      ],
      "source": [
        "H = model.fit_generator(steps_per_epoch=30,generator=train_data,validation_steps=2,validation_data=val_data,epochs=50,verbose=1,shuffle=True)"
      ]
    },
    {
      "cell_type": "code",
      "execution_count": null,
      "metadata": {
        "id": "BrwN8EnpLhl4"
      },
      "outputs": [],
      "source": [
        "test_data = datagen.flow_from_directory(\n",
        "    data_dir,\n",
        "    target_size=(224, 224),\n",
        "    batch_size=128,\n",
        "    shuffle=True,\n",
        "    class_mode='categorical',\n",
        "    subset='validation')"
      ]
    },
    {
      "cell_type": "code",
      "execution_count": null,
      "metadata": {
        "id": "C8VwG63FLilV"
      },
      "outputs": [],
      "source": [
        "# Evaluate the model on the test set\n",
        "loss, accuracy = model.evaluate(test_data)\n",
        "\n",
        "# Print the results\n",
        "print('Test Loss:', loss)\n",
        "print('Test Accuracy:', accuracy)"
      ]
    },
    {
      "cell_type": "code",
      "source": [
        "import matplotlib.pyplot as plt\n",
        "\n",
        "plt.plot(H.history['accuracy'],color='red',label='train')\n",
        "plt.plot(H.history['val_accuracy'],color='blue',label='test')\n",
        "plt.legend()\n",
        "plt.show()"
      ],
      "metadata": {
        "id": "aenPBojdMJWE"
      },
      "execution_count": null,
      "outputs": []
    },
    {
      "cell_type": "code",
      "source": [
        "\n",
        "plt.plot(H.history['loss'],color='red',label='train')\n",
        "plt.plot(H.history['val_loss'],color='blue',label='test')\n",
        "plt.legend()\n",
        "plt.show()"
      ],
      "metadata": {
        "id": "whmGHiOrMS-f"
      },
      "execution_count": null,
      "outputs": []
    }
  ],
  "metadata": {
    "accelerator": "GPU",
    "colab": {
      "provenance": [],
      "include_colab_link": true
    },
    "gpuClass": "standard",
    "kernelspec": {
      "display_name": "Python 3",
      "name": "python3"
    },
    "language_info": {
      "name": "python"
    }
  },
  "nbformat": 4,
  "nbformat_minor": 0
}